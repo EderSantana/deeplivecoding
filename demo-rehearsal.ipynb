{
 "metadata": {
  "name": "",
  "signature": "sha256:0435b85bc1294b9e29e6a5ddb1cd5dce05847d179ca4d224519eb6844e4a40e8"
 },
 "nbformat": 3,
 "nbformat_minor": 0,
 "worksheets": [
  {
   "cells": [
    {
     "cell_type": "heading",
     "level": 1,
     "metadata": {},
     "source": [
      "Theano Basics"
     ]
    },
    {
     "cell_type": "code",
     "collapsed": false,
     "input": [
      "from __future__ import print_function\n",
      "\n",
      "import theano\n",
      "import numpy as np\n",
      "\n",
      "from theano import tensor as T\n",
      "floatX = theano.config.floatX"
     ],
     "language": "python",
     "metadata": {},
     "outputs": [],
     "prompt_number": 1
    },
    {
     "cell_type": "code",
     "collapsed": false,
     "input": [
      "# Convention:\n",
      "#  uppercase: symbolic theano element or function\n",
      "#  lowercase: numpy array\n",
      "W = T.vector('w')\n",
      "X = T.matrix('X')\n",
      "Y = X.dot(W)\n",
      "F = theano.function([W,X], Y)\n",
      "\n",
      "w = np.ones(4)\n",
      "x = np.ones((10,4))\n",
      "y = F(w,x)\n",
      "print(y)"
     ],
     "language": "python",
     "metadata": {},
     "outputs": [
      {
       "output_type": "stream",
       "stream": "stdout",
       "text": [
        "[ 4.  4.  4.  4.  4.  4.  4.  4.  4.  4.]\n"
       ]
      }
     ],
     "prompt_number": 2
    },
    {
     "cell_type": "code",
     "collapsed": false,
     "input": [
      "# The most underused tool in machine learning\n",
      "# AUTODIFF\n",
      "grad_w = T.grad(Y.sum(), W)\n",
      "F_grad = theano.function([W,X], grad_w)\n",
      "g = F_grad(w,x)\n",
      "# this should be equal to the sum of the columns of X (do you know how to matrix calculus?)\n",
      "print(g)"
     ],
     "language": "python",
     "metadata": {},
     "outputs": [
      {
       "output_type": "stream",
       "stream": "stdout",
       "text": [
        "[ 10.  10.  10.  10.]\n"
       ]
      }
     ],
     "prompt_number": 3
    },
    {
     "cell_type": "code",
     "collapsed": false,
     "input": [
      "# An easier example\n",
      "B = T.scalar('E')\n",
      "R = T.sqr(B)\n",
      "A = T.grad(R, B)\n",
      "Z = theano.function([B], A)\n",
      "i = 2\n",
      "l = Z(i)\n",
      "print(l)"
     ],
     "language": "python",
     "metadata": {},
     "outputs": [
      {
       "output_type": "stream",
       "stream": "stdout",
       "text": [
        "4.0\n"
       ]
      }
     ],
     "prompt_number": 4
    },
    {
     "cell_type": "code",
     "collapsed": false,
     "input": [
      "# If that didn't blow your mind, well, it should have.\n",
      "def sharedX(X):\n",
      "    return theano.shared(X.astype(floatX))\n",
      "\n",
      "B = sharedX(np.ones(2))\n",
      "R = T.sqr(B).sum()\n",
      "A = T.grad(R, B)\n",
      "Z = theano.function([], R, updates={B: B - .1*A})\n",
      "for i in range(10):\n",
      "    print('cost function = {}'.format(Z()))\n",
      "    print('parameters    = {}'.format(B.get_value()))\n",
      "# Try to change range to 100 to see what happens"
     ],
     "language": "python",
     "metadata": {},
     "outputs": [
      {
       "output_type": "stream",
       "stream": "stdout",
       "text": [
        "cost function = 2.0\n",
        "parameters    = [ 0.8  0.8]\n",
        "cost function = 1.28\n",
        "parameters    = [ 0.64  0.64]\n",
        "cost function = 0.8192\n",
        "parameters    = [ 0.512  0.512]\n",
        "cost function = 0.524288\n",
        "parameters    = [ 0.4096  0.4096]\n",
        "cost function = 0.33554432\n",
        "parameters    = [ 0.32768  0.32768]\n",
        "cost function = 0.2147483648\n",
        "parameters    = [ 0.262144  0.262144]\n",
        "cost function = 0.137438953472\n",
        "parameters    = [ 0.2097152  0.2097152]\n",
        "cost function = 0.0879609302221\n",
        "parameters    = [ 0.16777216  0.16777216]\n",
        "cost function = 0.0562949953421\n",
        "parameters    = [ 0.13421773  0.13421773]\n",
        "cost function = 0.036028797019\n",
        "parameters    = [ 0.10737418  0.10737418]\n"
       ]
      }
     ],
     "prompt_number": 5
    },
    {
     "cell_type": "heading",
     "level": 1,
     "metadata": {},
     "source": [
      "Neural Nets"
     ]
    },
    {
     "cell_type": "code",
     "collapsed": false,
     "input": [
      "\"\"\" Now that we now how to sum, we have enough to Deep Learn\n",
      " ... I should say something in the board about the Model-View-Controller way we usually\n",
      "     deep learn with Theano.\n",
      "     Model      : Neural net parameters and dataset generator\n",
      "     View       : Logging, graph updates, saving cross-validated best parameters\n",
      "     Controller : Update algorithm that follows gradient directions to optimize paramters\n",
      "\n",
      " Download this dataset : http://www.iro.umontreal.ca/~lisa/deep/data/mnist/mnist.pkl.gz\n",
      " \n",
      "\"\"\"\n",
      "%matplotlib inline\n",
      "import cPickle\n",
      "from pylab import imshow\n",
      "\n",
      "train_set, valid_set, test_set = cPickle.load(file('mnist.pkl', 'r'))\n",
      "print(len(train_set))\n",
      "train_x, train_y = train_set\n",
      "test_x , test_y  = test_set\n",
      "print(train_x.shape)\n",
      "print(train_y.shape)\n",
      "_ = imshow(train_x[0].reshape((28,28)), cmap='gray')"
     ],
     "language": "python",
     "metadata": {},
     "outputs": [
      {
       "output_type": "stream",
       "stream": "stdout",
       "text": [
        "2\n",
        "(50000, 784)\n",
        "(50000,)\n"
       ]
      },
      {
       "metadata": {},
       "output_type": "display_data",
       "png": "[encoded data removed]",
       "text": [
        "<matplotlib.figure.Figure at 0x107b0be50>"
       ]
      }
     ],
     "prompt_number": 6
    },
    {
     "cell_type": "code",
     "collapsed": false,
     "input": [
      "def batch_iterator(x, y, batch_size):\n",
      "    num_batches = x.shape[0] // batch_size\n",
      "    for i in xrange(0,num_batches):\n",
      "        # TODO: use random integers instead of consecutive\n",
      "        #   values to avoid biased gradients\n",
      "        first = i * batch_size\n",
      "        last  = (i+1) * batch_size\n",
      "        x_batch = x[first:last].astype(floatX)\n",
      "        y_pre   = y[first:last]\n",
      "        y_batch = np.zeros((batch_size, 10))\n",
      "        for row, col in enumerate(y_pre):\n",
      "            y_batch[row, col] = 1\n",
      "        yield (x_batch, y_batch.astype(floatX))\n",
      "\n",
      "for x,y in batch_iterator(train_x, train_y, 10000):\n",
      "    print('{}, {}'.format(x.shape, y.shape))\n",
      "print(y[0])\n",
      "_ = imshow(x[0].reshape((28,28)), cmap='gray')"
     ],
     "language": "python",
     "metadata": {},
     "outputs": [
      {
       "output_type": "stream",
       "stream": "stdout",
       "text": [
        "(10000, 784), (10000, 10)\n",
        "(10000, 784), (10000, 10)"
       ]
      },
      {
       "output_type": "stream",
       "stream": "stdout",
       "text": [
        "\n",
        "(10000, 784), (10000, 10)\n",
        "(10000, 784), (10000, 10)"
       ]
      },
      {
       "output_type": "stream",
       "stream": "stdout",
       "text": [
        "\n",
        "(10000, 784), (10000, 10)\n",
        "[ 0.  0.  0.  0.  0.  0.  0.  1.  0.  0.]\n"
       ]
      },
      {
       "metadata": {},
       "output_type": "display_data",
       "png": "[encoded data removed]",
       "text": [
        "<matplotlib.figure.Figure at 0x10896a710>"
       ]
      }
     ],
     "prompt_number": 7
    },
    {
     "cell_type": "code",
     "collapsed": false,
     "input": [
      "# Define layers\n",
      "def rectifier(input_dim, output_dim, X):\n",
      "    W = sharedX(np.random.normal(0, .001, size=(input_dim, output_dim)))\n",
      "    b = sharedX(np.zeros((output_dim,)))\n",
      "    Z = T.dot(X,W) + b.dimshuffle('x',0)\n",
      "    O = T.switch(Z>0, Z, 0)\n",
      "    return W,b,O\n",
      "\n",
      "def softmax(input_dim, output_dim, X, Y):\n",
      "    W = sharedX(np.random.normal(0, .001, size=(input_dim, output_dim)))\n",
      "    b = sharedX(np.zeros((output_dim,)))\n",
      "    Z = T.dot(X,W) + b.dimshuffle('x',0)\n",
      "    O = T.nnet.softmax(Z)\n",
      "    cost = T.nnet.binary_crossentropy(O, Y).sum(axis=-1).mean()\n",
      "    return W,b,O,cost\n",
      "\n",
      "X = T.matrix('X')\n",
      "Y = T.matrix('Y')\n",
      "W0, b0, O0 = rectifier(784, 100, X)\n",
      "W1, b1, O1 = rectifier(100, 100, O0)\n",
      "W2, b2, O2, cost = softmax(100, 10,  O1, Y)\n",
      "\n",
      "# Always write tests\n",
      "F = theano.function([X,Y], [cost, O2])\n",
      "x = np.zeros((100,784)).astype(floatX)\n",
      "y = np.ones((100,10)).astype(floatX)\n",
      "c, z = F(x,y)\n",
      "assert c>0\n",
      "assert z.shape == (100,10)\n",
      "print(z[0])"
     ],
     "language": "python",
     "metadata": {},
     "outputs": [
      {
       "output_type": "stream",
       "stream": "stdout",
       "text": [
        "[ 0.1  0.1  0.1  0.1  0.1  0.1  0.1  0.1  0.1  0.1]\n"
       ]
      }
     ],
     "prompt_number": 13
    },
    {
     "cell_type": "code",
     "collapsed": false,
     "input": [
      "from collections import OrderedDict\n",
      "params = [W0, b0, W1, b1, W2, b2]\n",
      "updates = dict()\n",
      "for p in params:\n",
      "    updates[p] = p - .01 * T.grad(cost, p)\n",
      "updates = OrderedDict(updates)\n",
      "trainer = theano.function([X,Y], cost, updates=updates)"
     ],
     "language": "python",
     "metadata": {},
     "outputs": [],
     "prompt_number": 14
    },
    {
     "cell_type": "code",
     "collapsed": false,
     "input": [
      "num_epochs = 100\n",
      "for i in range(num_epochs):\n",
      "    print('-'*10)\n",
      "    print('Epoch: {}'.format(i))\n",
      "    for iter,b in enumerate(batch_iterator(train_x, train_y, 128)):\n",
      "        x = b[0]\n",
      "        y = b[1]\n",
      "        last_cost = trainer(x,y)\n",
      "    print('cost: {}'.format(trainer(x,y)))"
     ],
     "language": "python",
     "metadata": {},
     "outputs": [
      {
       "output_type": "stream",
       "stream": "stdout",
       "text": [
        "----------\n",
        "Epoch: 0\n",
        "cost: 3.24799897328"
       ]
      },
      {
       "output_type": "stream",
       "stream": "stdout",
       "text": [
        "\n",
        "----------\n",
        "Epoch: 1\n",
        "cost: 3.24637901577"
       ]
      },
      {
       "output_type": "stream",
       "stream": "stdout",
       "text": [
        "\n",
        "----------\n",
        "Epoch: 2\n",
        "cost: 3.24544521374"
       ]
      },
      {
       "output_type": "stream",
       "stream": "stdout",
       "text": [
        "\n",
        "----------\n",
        "Epoch: 3\n",
        "cost: 3.24489438784"
       ]
      },
      {
       "output_type": "stream",
       "stream": "stdout",
       "text": [
        "\n",
        "----------\n",
        "Epoch: 4\n",
        "cost: 3.24456359659"
       ]
      },
      {
       "output_type": "stream",
       "stream": "stdout",
       "text": [
        "\n",
        "----------\n",
        "Epoch: 5\n",
        "cost: 3.24436235329"
       ]
      },
      {
       "output_type": "stream",
       "stream": "stdout",
       "text": [
        "\n",
        "----------\n",
        "Epoch: 6\n",
        "cost: 3.24423881687"
       ]
      },
      {
       "output_type": "stream",
       "stream": "stdout",
       "text": [
        "\n",
        "----------\n",
        "Epoch: 7\n",
        "cost: 3.24416252048"
       ]
      },
      {
       "output_type": "stream",
       "stream": "stdout",
       "text": [
        "\n",
        "----------\n",
        "Epoch: 8\n",
        "cost: 3.24411520784"
       ]
      },
      {
       "output_type": "stream",
       "stream": "stdout",
       "text": [
        "\n",
        "----------\n",
        "Epoch: 9\n",
        "cost: 3.24408578483"
       ]
      },
      {
       "output_type": "stream",
       "stream": "stdout",
       "text": [
        "\n",
        "----------\n",
        "Epoch: 10\n",
        "cost: 3.24406745273"
       ]
      },
      {
       "output_type": "stream",
       "stream": "stdout",
       "text": [
        "\n",
        "----------\n",
        "Epoch: 11\n",
        "cost: 3.24405601092"
       ]
      },
      {
       "output_type": "stream",
       "stream": "stdout",
       "text": [
        "\n",
        "----------\n",
        "Epoch: 12\n",
        "cost: 3.24404885714"
       ]
      },
      {
       "output_type": "stream",
       "stream": "stdout",
       "text": [
        "\n",
        "----------\n",
        "Epoch: 13\n",
        "cost: 3.24404437278"
       ]
      },
      {
       "output_type": "stream",
       "stream": "stdout",
       "text": [
        "\n",
        "----------\n",
        "Epoch: 14\n",
        "cost: 3.24404155268"
       ]
      },
      {
       "output_type": "stream",
       "stream": "stdout",
       "text": [
        "\n",
        "----------\n",
        "Epoch: 15\n",
        "cost: 3.2440397677"
       ]
      },
      {
       "output_type": "stream",
       "stream": "stdout",
       "text": [
        "\n",
        "----------\n",
        "Epoch: 16\n",
        "cost: 3.24403862545"
       ]
      },
      {
       "output_type": "stream",
       "stream": "stdout",
       "text": [
        "\n",
        "----------\n",
        "Epoch: 17\n",
        "cost: 3.24403788064"
       ]
      },
      {
       "output_type": "stream",
       "stream": "stdout",
       "text": [
        "\n",
        "----------\n",
        "Epoch: 18\n",
        "cost: 3.24403738298"
       ]
      },
      {
       "output_type": "stream",
       "stream": "stdout",
       "text": [
        "\n",
        "----------\n",
        "Epoch: 19\n",
        "cost: 3.24403703693"
       ]
      },
      {
       "output_type": "stream",
       "stream": "stdout",
       "text": [
        "\n",
        "----------\n",
        "Epoch: 20\n",
        "cost: 3.24403678167"
       ]
      },
      {
       "output_type": "stream",
       "stream": "stdout",
       "text": [
        "\n",
        "----------\n",
        "Epoch: 21\n",
        "cost: 3.24403658028"
       ]
      },
      {
       "output_type": "stream",
       "stream": "stdout",
       "text": [
        "\n",
        "----------\n",
        "Epoch: 22\n",
        "cost: 3.244036407"
       ]
      },
      {
       "output_type": "stream",
       "stream": "stdout",
       "text": [
        "\n",
        "----------\n",
        "Epoch: 23\n",
        "cost: 3.2440362482"
       ]
      },
      {
       "output_type": "stream",
       "stream": "stdout",
       "text": [
        "\n",
        "----------\n",
        "Epoch: 24\n",
        "cost: 3.24403609334"
       ]
      },
      {
       "output_type": "stream",
       "stream": "stdout",
       "text": [
        "\n",
        "----------\n",
        "Epoch: 25\n",
        "cost: 3.24403593585"
       ]
      },
      {
       "output_type": "stream",
       "stream": "stdout",
       "text": [
        "\n",
        "----------\n",
        "Epoch: 26\n",
        "cost: 3.24403576784"
       ]
      },
      {
       "output_type": "stream",
       "stream": "stdout",
       "text": [
        "\n",
        "----------\n",
        "Epoch: 27\n",
        "cost: 3.2440355873"
       ]
      },
      {
       "output_type": "stream",
       "stream": "stdout",
       "text": [
        "\n",
        "----------\n",
        "Epoch: 28\n",
        "cost: 3.24403539016"
       ]
      },
      {
       "output_type": "stream",
       "stream": "stdout",
       "text": [
        "\n",
        "----------\n",
        "Epoch: 29\n",
        "cost: 3.24403517261"
       ]
      },
      {
       "output_type": "stream",
       "stream": "stdout",
       "text": [
        "\n",
        "----------\n",
        "Epoch: 30\n",
        "cost: 3.24403493102"
       ]
      },
      {
       "output_type": "stream",
       "stream": "stdout",
       "text": [
        "\n",
        "----------\n",
        "Epoch: 31\n",
        "cost: 3.24403466262"
       ]
      },
      {
       "output_type": "stream",
       "stream": "stdout",
       "text": [
        "\n",
        "----------\n",
        "Epoch: 32\n",
        "cost: 3.24403436311"
       ]
      },
      {
       "output_type": "stream",
       "stream": "stdout",
       "text": [
        "\n",
        "----------\n",
        "Epoch: 33\n",
        "cost: 3.24403402765"
       ]
      },
      {
       "output_type": "stream",
       "stream": "stdout",
       "text": [
        "\n",
        "----------\n",
        "Epoch: 34\n",
        "cost: 3.24403364882"
       ]
      },
      {
       "output_type": "stream",
       "stream": "stdout",
       "text": [
        "\n",
        "----------\n",
        "Epoch: 35\n",
        "cost: 3.24403321959"
       ]
      },
      {
       "output_type": "stream",
       "stream": "stdout",
       "text": [
        "\n",
        "----------\n",
        "Epoch: 36\n",
        "cost: 3.24403272996"
       ]
      },
      {
       "output_type": "stream",
       "stream": "stdout",
       "text": [
        "\n",
        "----------\n",
        "Epoch: 37\n",
        "cost: 3.24403216987"
       ]
      },
      {
       "output_type": "stream",
       "stream": "stdout",
       "text": [
        "\n",
        "----------\n",
        "Epoch: 38\n",
        "cost: 3.24403151759"
       ]
      },
      {
       "output_type": "stream",
       "stream": "stdout",
       "text": [
        "\n",
        "----------\n",
        "Epoch: 39\n",
        "cost: 3.24403076179"
       ]
      },
      {
       "output_type": "stream",
       "stream": "stdout",
       "text": [
        "\n",
        "----------\n",
        "Epoch: 40\n",
        "cost: 3.24402987749"
       ]
      },
      {
       "output_type": "stream",
       "stream": "stdout",
       "text": [
        "\n",
        "----------\n",
        "Epoch: 41\n",
        "cost: 3.24402883166"
       ]
      },
      {
       "output_type": "stream",
       "stream": "stdout",
       "text": [
        "\n",
        "----------\n",
        "Epoch: 42\n",
        "cost: 3.24402754211"
       ]
      },
      {
       "output_type": "stream",
       "stream": "stdout",
       "text": [
        "\n",
        "----------\n",
        "Epoch: 43\n",
        "cost: 3.24402602991"
       ]
      },
      {
       "output_type": "stream",
       "stream": "stdout",
       "text": [
        "\n",
        "----------\n",
        "Epoch: 44\n",
        "cost: 3.2440241948"
       ]
      },
      {
       "output_type": "stream",
       "stream": "stdout",
       "text": [
        "\n",
        "----------\n",
        "Epoch: 45\n",
        "cost: 3.2440219314"
       ]
      },
      {
       "output_type": "stream",
       "stream": "stdout",
       "text": [
        "\n",
        "----------\n",
        "Epoch: 46\n",
        "cost: 3.24401910032"
       ]
      },
      {
       "output_type": "stream",
       "stream": "stdout",
       "text": [
        "\n",
        "----------\n",
        "Epoch: 47\n",
        "cost: 3.24401549934"
       ]
      },
      {
       "output_type": "stream",
       "stream": "stdout",
       "text": [
        "\n",
        "----------\n",
        "Epoch: 48\n",
        "cost: 3.24401083334"
       ]
      },
      {
       "output_type": "stream",
       "stream": "stdout",
       "text": [
        "\n",
        "----------\n",
        "Epoch: 49\n",
        "cost: 3.24400465974"
       ]
      },
      {
       "output_type": "stream",
       "stream": "stdout",
       "text": [
        "\n",
        "----------\n",
        "Epoch: 50\n",
        "cost: 3.24399628209"
       ]
      },
      {
       "output_type": "stream",
       "stream": "stdout",
       "text": [
        "\n",
        "----------\n",
        "Epoch: 51\n",
        "cost: 3.24398459195"
       ]
      },
      {
       "output_type": "stream",
       "stream": "stdout",
       "text": [
        "\n",
        "----------\n",
        "Epoch: 52\n",
        "cost: 3.2439677118"
       ]
      },
      {
       "output_type": "stream",
       "stream": "stdout",
       "text": [
        "\n",
        "----------\n",
        "Epoch: 53\n",
        "cost: 3.24394231887"
       ]
      },
      {
       "output_type": "stream",
       "stream": "stdout",
       "text": [
        "\n",
        "----------\n",
        "Epoch: 54\n",
        "cost: 3.24390217629"
       ]
      },
      {
       "output_type": "stream",
       "stream": "stdout",
       "text": [
        "\n",
        "----------\n",
        "Epoch: 55\n",
        "cost: 3.24383462327"
       ]
      },
      {
       "output_type": "stream",
       "stream": "stdout",
       "text": [
        "\n",
        "----------\n",
        "Epoch: 56\n",
        "cost: 3.24371140817"
       ]
      },
      {
       "output_type": "stream",
       "stream": "stdout",
       "text": [
        "\n",
        "----------\n",
        "Epoch: 57\n",
        "cost: 3.24346018389"
       ]
      },
      {
       "output_type": "stream",
       "stream": "stdout",
       "text": [
        "\n",
        "----------\n",
        "Epoch: 58\n",
        "cost: 3.24285853744"
       ]
      },
      {
       "output_type": "stream",
       "stream": "stdout",
       "text": [
        "\n",
        "----------\n",
        "Epoch: 59\n",
        "cost: 3.24096812154"
       ]
      },
      {
       "output_type": "stream",
       "stream": "stdout",
       "text": [
        "\n",
        "----------\n",
        "Epoch: 60\n",
        "cost: 3.23089552684"
       ]
      },
      {
       "output_type": "stream",
       "stream": "stdout",
       "text": [
        "\n",
        "----------\n",
        "Epoch: 61\n",
        "cost: 3.12590093386"
       ]
      },
      {
       "output_type": "stream",
       "stream": "stdout",
       "text": [
        "\n",
        "----------\n",
        "Epoch: 62\n",
        "cost: 2.95756529172"
       ]
      },
      {
       "output_type": "stream",
       "stream": "stdout",
       "text": [
        "\n",
        "----------\n",
        "Epoch: 63\n",
        "cost: 2.84535398592"
       ]
      },
      {
       "output_type": "stream",
       "stream": "stdout",
       "text": [
        "\n",
        "----------\n",
        "Epoch: 64\n",
        "cost: 2.68907151912"
       ]
      },
      {
       "output_type": "stream",
       "stream": "stdout",
       "text": [
        "\n",
        "----------\n",
        "Epoch: 65\n",
        "cost: 2.52265974165"
       ]
      },
      {
       "output_type": "stream",
       "stream": "stdout",
       "text": [
        "\n",
        "----------\n",
        "Epoch: 66\n",
        "cost: 2.45028472116"
       ]
      },
      {
       "output_type": "stream",
       "stream": "stdout",
       "text": [
        "\n",
        "----------\n",
        "Epoch: 67\n",
        "cost: 2.40018156869"
       ]
      },
      {
       "output_type": "stream",
       "stream": "stdout",
       "text": [
        "\n",
        "----------\n",
        "Epoch: 68\n",
        "cost: 2.33886133861"
       ]
      },
      {
       "output_type": "stream",
       "stream": "stdout",
       "text": [
        "\n",
        "----------\n",
        "Epoch: 69\n",
        "cost: 2.26196722755"
       ]
      },
      {
       "output_type": "stream",
       "stream": "stdout",
       "text": [
        "\n",
        "----------\n",
        "Epoch: 70\n",
        "cost: 2.18171480325"
       ]
      },
      {
       "output_type": "stream",
       "stream": "stdout",
       "text": [
        "\n",
        "----------\n",
        "Epoch: 71\n",
        "cost: 2.10275115781"
       ]
      },
      {
       "output_type": "stream",
       "stream": "stdout",
       "text": [
        "\n",
        "----------\n",
        "Epoch: 72\n",
        "cost: 2.02131642541"
       ]
      },
      {
       "output_type": "stream",
       "stream": "stdout",
       "text": [
        "\n",
        "----------\n",
        "Epoch: 73\n",
        "cost: 1.75852680397"
       ]
      },
      {
       "output_type": "stream",
       "stream": "stdout",
       "text": [
        "\n",
        "----------\n",
        "Epoch: 74\n",
        "cost: 1.63110831839"
       ]
      },
      {
       "output_type": "stream",
       "stream": "stdout",
       "text": [
        "\n",
        "----------\n",
        "Epoch: 75\n",
        "cost: 1.56621211374"
       ]
      },
      {
       "output_type": "stream",
       "stream": "stdout",
       "text": [
        "\n",
        "----------\n",
        "Epoch: 76\n",
        "cost: 1.48378594499"
       ]
      },
      {
       "output_type": "stream",
       "stream": "stdout",
       "text": [
        "\n",
        "----------\n",
        "Epoch: 77\n",
        "cost: 1.39341893482"
       ]
      },
      {
       "output_type": "stream",
       "stream": "stdout",
       "text": [
        "\n",
        "----------\n",
        "Epoch: 78\n",
        "cost: 1.27500592905"
       ]
      },
      {
       "output_type": "stream",
       "stream": "stdout",
       "text": [
        "\n",
        "----------\n",
        "Epoch: 79\n",
        "cost: 1.10222175327"
       ]
      },
      {
       "output_type": "stream",
       "stream": "stdout",
       "text": [
        "\n",
        "----------\n",
        "Epoch: 80\n",
        "cost: 0.99028564102"
       ]
      },
      {
       "output_type": "stream",
       "stream": "stdout",
       "text": [
        "\n",
        "----------\n",
        "Epoch: 81\n",
        "cost: 0.924115294499"
       ]
      },
      {
       "output_type": "stream",
       "stream": "stdout",
       "text": [
        "\n",
        "----------\n",
        "Epoch: 82\n",
        "cost: 0.871967153625"
       ]
      },
      {
       "output_type": "stream",
       "stream": "stdout",
       "text": [
        "\n",
        "----------\n",
        "Epoch: 83\n",
        "cost: 0.823329313166"
       ]
      },
      {
       "output_type": "stream",
       "stream": "stdout",
       "text": [
        "\n",
        "----------\n",
        "Epoch: 84\n",
        "cost: 0.776880251134"
       ]
      },
      {
       "output_type": "stream",
       "stream": "stdout",
       "text": [
        "\n",
        "----------\n",
        "Epoch: 85\n",
        "cost: 0.732881327831"
       ]
      },
      {
       "output_type": "stream",
       "stream": "stdout",
       "text": [
        "\n",
        "----------\n",
        "Epoch: 86\n",
        "cost: 0.693275470382"
       ]
      },
      {
       "output_type": "stream",
       "stream": "stdout",
       "text": [
        "\n",
        "----------\n",
        "Epoch: 87\n",
        "cost: 0.656828014164"
       ]
      },
      {
       "output_type": "stream",
       "stream": "stdout",
       "text": [
        "\n",
        "----------\n",
        "Epoch: 88\n",
        "cost: 0.623514990728"
       ]
      },
      {
       "output_type": "stream",
       "stream": "stdout",
       "text": [
        "\n",
        "----------\n",
        "Epoch: 89\n",
        "cost: 0.59437572681"
       ]
      },
      {
       "output_type": "stream",
       "stream": "stdout",
       "text": [
        "\n",
        "----------\n",
        "Epoch: 90\n",
        "cost: 0.570174970066"
       ]
      },
      {
       "output_type": "stream",
       "stream": "stdout",
       "text": [
        "\n",
        "----------\n",
        "Epoch: 91\n",
        "cost: 0.549500032845"
       ]
      },
      {
       "output_type": "stream",
       "stream": "stdout",
       "text": [
        "\n",
        "----------\n",
        "Epoch: 92\n",
        "cost: 0.530968409387"
       ]
      },
      {
       "output_type": "stream",
       "stream": "stdout",
       "text": [
        "\n",
        "----------\n",
        "Epoch: 93\n",
        "cost: 0.516512140444"
       ]
      },
      {
       "output_type": "stream",
       "stream": "stdout",
       "text": [
        "\n",
        "----------\n",
        "Epoch: 94\n",
        "cost: 0.501774799484"
       ]
      },
      {
       "output_type": "stream",
       "stream": "stdout",
       "text": [
        "\n",
        "----------\n",
        "Epoch: 95\n",
        "cost: 0.489293294937"
       ]
      },
      {
       "output_type": "stream",
       "stream": "stdout",
       "text": [
        "\n",
        "----------\n",
        "Epoch: 96\n",
        "cost: 0.478189165397"
       ]
      },
      {
       "output_type": "stream",
       "stream": "stdout",
       "text": [
        "\n",
        "----------\n",
        "Epoch: 97\n",
        "cost: 0.467420804638"
       ]
      },
      {
       "output_type": "stream",
       "stream": "stdout",
       "text": [
        "\n",
        "----------\n",
        "Epoch: 98\n",
        "cost: 0.455858228147"
       ]
      },
      {
       "output_type": "stream",
       "stream": "stdout",
       "text": [
        "\n",
        "----------\n",
        "Epoch: 99\n",
        "cost: 0.444447902718"
       ]
      },
      {
       "output_type": "stream",
       "stream": "stdout",
       "text": [
        "\n"
       ]
      }
     ],
     "prompt_number": 15
    },
    {
     "cell_type": "code",
     "collapsed": false,
     "input": [
      "w0 = W0.get_value()\n",
      "_ = imshow(w0[:,0].reshape((28,28)), cmap='gray')"
     ],
     "language": "python",
     "metadata": {},
     "outputs": [
      {
       "metadata": {},
       "output_type": "display_data",
       "png": "[encoded data removed]",
       "text": [
        "<matplotlib.figure.Figure at 0x110d1f0d0>"
       ]
      }
     ],
     "prompt_number": 16
    },
    {
     "cell_type": "code",
     "collapsed": false,
     "input": [
      "ERR = T.neq(O2.argmax(axis=-1), Y.argmax(axis=-1))\n",
      "Ferr = theano.function([X,Y], ERR)\n",
      "def testnet(x, y):\n",
      "    testerr = 0.\n",
      "    for b1,b2 in batch_iterator(x, y, 500):\n",
      "        testerr += Ferr(b1,b2)\n",
      "    return testerr.sum()\n",
      "\n",
      "print('test error: {}, test acc: {}'.format(testnet(test_x, test_y),\n",
      "       1 - testnet(test_x, test_y) / 10000.))\n"
     ],
     "language": "python",
     "metadata": {},
     "outputs": [
      {
       "output_type": "stream",
       "stream": "stdout",
       "text": [
        "test error: 618.0, test acc: 0.9382\n"
       ]
      }
     ],
     "prompt_number": 17
    },
    {
     "cell_type": "heading",
     "level": 1,
     "metadata": {},
     "source": [
      "Convolutional Nets"
     ]
    },
    {
     "cell_type": "code",
     "collapsed": false,
     "input": [
      "\"\"\"\n",
      " We can do much better than this with more hidden neurons and dropout.\n",
      " Watch Alec Radford's presentation to see how to do that \n",
      " with Python/Theano: https://www.youtube.com/watch?v=S75EdAcXHKk\n",
      " For now, lets move on to convnets.\n",
      " \n",
      "\"\"\"\n",
      "from theano.tensor.nnet.conv import conv2d\n",
      "from theano.tensor.signal.downsample import max_pool_2d\n",
      "def conv_rectifier(input_channels, output_channels, filter_dim, X):\n",
      "    W = sharedX(np.random.normal(0, .001, size=(output_channels,\n",
      "                                                      input_channels,\n",
      "                                                      filter_dim,\n",
      "                                                      filter_dim)))\n",
      "    b  = sharedX(np.zeros((output_channels,)))\n",
      "    Z  = conv2d(X,W) + b.dimshuffle('x',0,'x','x')\n",
      "    DS = max_pool_2d(Z, ds=[2,2])\n",
      "    O  = T.switch(DS>0, DS, 0)\n",
      "    return W,b,O\n",
      "\n",
      "# test\n",
      "X = T.tensor4('X')\n",
      "W, b, O = conv_rectifier(1, 9, 5, X)\n",
      "F = theano.function([X], O)\n",
      "\n",
      "x = np.ones((5, 1, 28, 28))\n",
      "print(x.shape)\n",
      "o = F(x)\n",
      "o.shape"
     ],
     "language": "python",
     "metadata": {},
     "outputs": [
      {
       "output_type": "stream",
       "stream": "stdout",
       "text": [
        "(5, 1, 28, 28)\n"
       ]
      },
      {
       "metadata": {},
       "output_type": "pyout",
       "prompt_number": 19,
       "text": [
        "(5, 9, 12, 12)"
       ]
      }
     ],
     "prompt_number": 19
    },
    {
     "cell_type": "code",
     "collapsed": false,
     "input": [
      "Y = T.matrix('Y')\n",
      "W0, b0, O0 = conv_rectifier(1, 20, 5, X)\n",
      "W1, b1, O1 = conv_rectifier(20, 50, 5, O0)\n",
      "\n",
      "# test\n",
      "F = theano.function([X], O1)\n",
      "o = F(x)\n",
      "print(o.shape)"
     ],
     "language": "python",
     "metadata": {},
     "outputs": [
      {
       "output_type": "stream",
       "stream": "stdout",
       "text": [
        "(128, 50, 4, 4)\n"
       ]
      }
     ],
     "prompt_number": 21
    },
    {
     "cell_type": "code",
     "collapsed": false,
     "input": [
      "W2, b2, O2 = rectifier(50*4*4, 500, O1.flatten(2))\n",
      "W3, b3, O3, cost = softmax(500, 10,  O2, Y)\n",
      "# Teeeeeest\n",
      "x = np.ones((128,1,28,28)).astype(floatX)\n",
      "y = np.ones((128,10)).astype(floatX)\n",
      "F = theano.function([X, Y], [O3, cost])\n",
      "z, c = F(x,y)\n",
      "assert c>0\n",
      "assert z.shape == (128,10)"
     ],
     "language": "python",
     "metadata": {},
     "outputs": [],
     "prompt_number": 22
    },
    {
     "cell_type": "code",
     "collapsed": false,
     "input": [
      "# We need to modify the batch_iterator slightly to serve formated images\n",
      "def batch_iterator(x, y, batch_size):\n",
      "    num_batches = x.shape[0] // batch_size\n",
      "    for i in xrange(0,num_batches):\n",
      "        # TODO: use random integers instead of consecutive\n",
      "        #   values to avoid biased gradients\n",
      "        first = i * batch_size\n",
      "        last  = (i+1) * batch_size\n",
      "        x_batch = x[first:last].reshape((batch_size,1,28,28))\n",
      "        y_pre   = y[first:last]\n",
      "        y_batch = np.zeros((batch_size, 10))\n",
      "        for row, col in enumerate(y_pre):\n",
      "            y_batch[row, col] = 1\n",
      "        yield (x_batch, y_batch)\n",
      "\n",
      "for x,y in batch_iterator(train_x, train_y, 10000):\n",
      "    print('{}, {}'.format(x.shape, y.shape))\n",
      "print(y[0])\n",
      "_ = imshow(x[0].reshape((28,28)), cmap='gray')"
     ],
     "language": "python",
     "metadata": {},
     "outputs": [
      {
       "output_type": "stream",
       "stream": "stdout",
       "text": [
        "(10000, 1, 28, 28), (10000, 10)\n",
        "(10000, 1, 28, 28), (10000, 10)\n",
        "(10000, 1, 28, 28), (10000, 10)\n",
        "(10000, 1, 28, 28), (10000, 10)\n",
        "(10000, 1, 28, 28), (10000, 10)\n",
        "[ 0.  0.  0.  0.  0.  0.  0.  1.  0.  0.]\n"
       ]
      },
      {
       "metadata": {},
       "output_type": "display_data",
       "png": "[encoded data removed]",
       "text": [
        "<matplotlib.figure.Figure at 0x1107134d0>"
       ]
      }
     ],
     "prompt_number": 23
    },
    {
     "cell_type": "code",
     "collapsed": false,
     "input": [
      "params = [W0, b0, W1, b1, W2, b2, W3, b3]\n",
      "updates = dict()\n",
      "for p in params:\n",
      "    updates[p] = p - .01 * T.grad(cost, p)\n",
      "updates = OrderedDict(updates)\n",
      "trainer = theano.function([X,Y], cost, updates=updates)"
     ],
     "language": "python",
     "metadata": {},
     "outputs": [],
     "prompt_number": 24
    },
    {
     "cell_type": "code",
     "collapsed": false,
     "input": [
      "num_epochs = 100\n",
      "for i in range(num_epochs):\n",
      "    print('-'*10)\n",
      "    print('Epoch: {}'.format(i))\n",
      "    for iter,b in enumerate(batch_iterator(train_x, train_y, 128)):\n",
      "        x = b[0]\n",
      "        y = b[1]\n",
      "        last_cost = trainer(x,y)\n",
      "    print('cost: {}'.format(trainer(x,y)))"
     ],
     "language": "python",
     "metadata": {},
     "outputs": []
    },
    {
     "cell_type": "code",
     "collapsed": false,
     "input": [
      "w0 = W0.get_value()\n",
      "_ = imshow(w0[0,0,:,:].reshape((5,5)), cmap='gray')"
     ],
     "language": "python",
     "metadata": {},
     "outputs": []
    },
    {
     "cell_type": "code",
     "collapsed": false,
     "input": [
      "ERR = T.neq(O3.argmax(axis=-1), Y.argmax(axis=-1))\n",
      "Ferr = theano.function([X,Y], ERR)\n",
      "def testnet(x, y):\n",
      "    testerr = 0.\n",
      "    for b1,b2 in batch_iterator(x, y, 500):\n",
      "        testerr += Ferr(b1,b2)\n",
      "    return testerr.sum()\n",
      "\n",
      "print('test error: {}, test acc: {}'.format(testnet(test_x, test_y),\n",
      "       1 - testnet(test_x, test_y) / 10000.))"
     ],
     "language": "python",
     "metadata": {},
     "outputs": []
    }
   ],
   "metadata": {}
  }
 ]
}